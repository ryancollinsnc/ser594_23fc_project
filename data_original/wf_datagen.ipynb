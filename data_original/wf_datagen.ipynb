{
 "cells": [
  {
   "cell_type": "code",
   "execution_count": 12,
   "id": "7535314e",
   "metadata": {},
   "outputs": [
    {
     "name": "stdout",
     "output_type": "stream",
     "text": [
      "   RegionID  SizeRank       RegionName RegionType StateName     2000-01-31  \\\n",
      "0    102001         0    United States    country       NaN  121428.348338   \n",
      "1    394913         1     New York, NY        msa        NY  216218.985144   \n",
      "2    753899         2  Los Angeles, CA        msa        CA  222303.044856   \n",
      "3    394463         3      Chicago, IL        msa        IL  152289.701354   \n",
      "4    394514         4       Dallas, TX        msa        TX  125341.331449   \n",
      "\n",
      "      2000-02-29     2000-03-31     2000-04-30     2000-05-31  ...  \\\n",
      "0  121641.979730  121906.914111  122475.146355  123129.113541  ...   \n",
      "1  217137.793836  218065.112352  219944.218493  221890.097976  ...   \n",
      "2  223130.294238  224232.182526  226424.570068  228822.354722  ...   \n",
      "3  152430.677254  152699.168339  153367.107433  154170.557823  ...   \n",
      "4  125397.158916  125461.338304  125628.005434  125847.751482  ...   \n",
      "\n",
      "   1999-03-31  1999-04-30  1999-05-31  1999-06-30  1999-07-31  1999-08-31  \\\n",
      "0         NaN         NaN         NaN         NaN         NaN         NaN   \n",
      "1         NaN         NaN         NaN         NaN         NaN         NaN   \n",
      "2         NaN         NaN         NaN         NaN         NaN         NaN   \n",
      "3         NaN         NaN         NaN         NaN         NaN         NaN   \n",
      "4         NaN         NaN         NaN         NaN         NaN         NaN   \n",
      "\n",
      "   1999-09-30  1999-10-31  1999-11-30  1999-12-31  \n",
      "0         NaN         NaN         NaN         NaN  \n",
      "1         NaN         NaN         NaN         NaN  \n",
      "2         NaN         NaN         NaN         NaN  \n",
      "3         NaN         NaN         NaN         NaN  \n",
      "4         NaN         NaN         NaN         NaN  \n",
      "\n",
      "[5 rows x 341 columns]\n"
     ]
    }
   ],
   "source": [
    "import pandas as pd\n",
    "import requests\n",
    "from io import StringIO\n",
    "\n",
    "# List of URLs for scraping\n",
    "urls = [\n",
    "    \"https://files.zillowstatic.com/research/public_csvs/zhvi/Metro_zhvi_uc_sfrcondo_tier_0.33_0.67_sm_sa_month.csv?t=1697437279\",\n",
    "    \"https://files.zillowstatic.com/research/public_csvs/zhvi/State_zhvi_uc_sfrcondo_tier_0.33_0.67_sm_sa_month.csv?t=1697437279\",\n",
    "    \"https://files.zillowstatic.com/research/public_csvs/zhvi/Neighborhood_zhvi_uc_sfrcondo_tier_0.33_0.67_sm_sa_month.csv?t=1697437279\",\n",
    "    \"https://files.zillowstatic.com/research/public_csvs/zhvi/Metro_zhvi_uc_sfrcondo_tier_0.33_0.67_month.csv?t=1697437279\"\n",
    "]\n",
    "\n",
    "dfs = []  # A list to store DataFrames\n",
    "\n",
    "for url in urls:\n",
    "    # Sending a HTTP request to the URL and save the response\n",
    "    response = requests.get(url)\n",
    "    \n",
    "    # Check if the request was successful (status code 200)\n",
    "    if response.status_code == 200:\n",
    "        # Using StringIO to convert the text data into a file-like object so it can be read into a pandas dataframe\n",
    "        data = StringIO(response.text)\n",
    "        \n",
    "        # Reading the data into a pandas dataframe\n",
    "        df = pd.read_csv(data)\n",
    "        \n",
    "        # Adding the dataframe to the list of dataframes\n",
    "        dfs.append(df)\n",
    "    else:\n",
    "        print(f\"Failed to retrieve data from {url}. Status code: {response.status_code}\")\n",
    "\n",
    "# Concatenating all the dataframes in the list into a single dataframe\n",
    "final_df = pd.concat(dfs, ignore_index=True)\n",
    "\n",
    "# Printing the first 5 rows of the concatenated dataframe to the console\n",
    "print(final_df.head())\n",
    "\n",
    "# Saving the concatenated dataframe to a new CSV file\n",
    "final_df.to_csv('zillow_data.csv', index=False)\n"
   ]
  },
  {
   "cell_type": "code",
   "execution_count": null,
   "id": "6b45d738",
   "metadata": {},
   "outputs": [],
   "source": []
  }
 ],
 "metadata": {
  "kernelspec": {
   "display_name": "Python 3 (ipykernel)",
   "language": "python",
   "name": "python3"
  },
  "language_info": {
   "codemirror_mode": {
    "name": "ipython",
    "version": 3
   },
   "file_extension": ".py",
   "mimetype": "text/x-python",
   "name": "python",
   "nbconvert_exporter": "python",
   "pygments_lexer": "ipython3",
   "version": "3.9.13"
  }
 },
 "nbformat": 4,
 "nbformat_minor": 5
}
