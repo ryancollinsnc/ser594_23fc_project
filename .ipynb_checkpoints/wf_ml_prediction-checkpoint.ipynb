{
 "cells": [
  {
   "cell_type": "code",
   "execution_count": 15,
   "id": "a0cdf247",
   "metadata": {},
   "outputs": [
    {
     "name": "stderr",
     "output_type": "stream",
     "text": [
      "/var/folders/4f/yms4x1p512v25t71yj1j9pqh0000gn/T/ipykernel_10261/1396024381.py:15: FutureWarning: Dropping of nuisance columns in DataFrame reductions (with 'numeric_only=None') is deprecated; in a future version this will raise TypeError.  Select only valid columns before calling the reduction.\n",
      "  df.fillna(df.mean(), inplace=True)\n"
     ]
    },
    {
     "name": "stdout",
     "output_type": "stream",
     "text": [
      "Prediction: [111311.57477317]\n",
      "Actual Value: [109905.16145138151]\n"
     ]
    },
    {
     "name": "stderr",
     "output_type": "stream",
     "text": [
      "/var/folders/4f/yms4x1p512v25t71yj1j9pqh0000gn/T/ipykernel_10261/1396024381.py:15: FutureWarning: Dropping of nuisance columns in DataFrame reductions (with 'numeric_only=None') is deprecated; in a future version this will raise TypeError.  Select only valid columns before calling the reduction.\n",
      "  df.fillna(df.mean(), inplace=True)\n"
     ]
    },
    {
     "name": "stdout",
     "output_type": "stream",
     "text": [
      "Prediction: [244714.60650701]\n",
      "Actual Value: [248121.2627379302]\n"
     ]
    }
   ],
   "source": [
    "# wf_ml_prediction.py\n",
    "import pandas as pd\n",
    "import joblib\n",
    "from sklearn.preprocessing import LabelEncoder\n",
    "\n",
    "def preprocess_input(input_data, training_data):\n",
    "    \"\"\"\n",
    "    Preprocesses the input data in the same way as the training data.\n",
    "\n",
    "    :param input_data: A dictionary containing the input data.\n",
    "    :param training_data: DataFrame used for training the model, for re-training label encoders.\n",
    "    :return: A DataFrame containing the preprocessed input data.\n",
    "    \"\"\"\n",
    "    df = pd.DataFrame([input_data])\n",
    "    df.fillna(df.mean(), inplace=True)\n",
    "    df['Year'] = pd.to_datetime(df['Date']).dt.year\n",
    "    df['Month'] = pd.to_datetime(df['Date']).dt.month\n",
    "    df.drop(['Date', 'RegionID'], axis=1, inplace=True)\n",
    "\n",
    "    label_encoders = {}\n",
    "    for col in ['RegionName', 'RegionType', 'StateName']:\n",
    "        if col in df:\n",
    "            le = LabelEncoder()\n",
    "            le.fit(training_data[col])\n",
    "            df[col] = le.transform(df[col])\n",
    "            label_encoders[col] = le\n",
    "\n",
    "    return df\n",
    "\n",
    "# Function to make predictions using a given model\n",
    "def make_prediction(model, input_data):\n",
    "    \"\"\"\n",
    "    Makes predictions using the given model on the provided input data.\n",
    "\n",
    "    :param model: The trained model to use for making predictions.\n",
    "    :param input_data: The DataFrame containing the preprocessed data on which predictions are to be made.\n",
    "    :return: Predictions made by the model.\n",
    "    \"\"\"\n",
    "    prediction = model.predict(input_data)\n",
    "    return prediction\n",
    "\n",
    "# Example usage\n",
    "# Load the training data (for label encoding)\n",
    "training_data = pd.read_csv('data_processed/final_zillow_data_small.csv')\n",
    "\n",
    "# Sample input data\n",
    "sample_input = {\n",
    "    'RegionID': 809312,\n",
    "    'SizeRank': 21497,\n",
    "    'RegionName': 'Seneca Falls',\n",
    "    'RegionType': 'neighborhood',\n",
    "    'StateName': 'NV',\n",
    "    'Date': '2010-12-31'\n",
    "}\n",
    "# Preprocess the input data\n",
    "preprocessed_input = preprocess_input(sample_input, training_data)\n",
    "\n",
    "# Load a model and make a prediction\n",
    "model = joblib.load('models/RandomForestRegressor.pkl')\n",
    "result = make_prediction(model, preprocessed_input)\n",
    "print(f\"Prediction: {result}\")\n",
    "print(f\"Actual Value: [{training_data['Value'][0]}]\")\n",
    "\n",
    "sample_input = {\n",
    "    'RegionID': 40981,\n",
    "    'SizeRank': 348,\n",
    "    'RegionName': 'South Miami Heights',\n",
    "    'RegionType': 'neighborhood',\n",
    "    'StateName': 'FL',\n",
    "    'Date': '2017-10-31'\n",
    "}\n",
    "preprocessed_input = preprocess_input(sample_input, training_data)\n",
    "\n",
    "# Load a model and make a prediction\n",
    "model = joblib.load('models/RandomForestRegressor.pkl')\n",
    "result = make_prediction(model, preprocessed_input)\n",
    "print(f\"Prediction: {result}\")\n",
    "print(f\"Actual Value: [{training_data['Value'][1]}]\")"
   ]
  },
  {
   "cell_type": "code",
   "execution_count": null,
   "id": "637732b3",
   "metadata": {},
   "outputs": [],
   "source": []
  }
 ],
 "metadata": {
  "kernelspec": {
   "display_name": "Python 3 (ipykernel)",
   "language": "python",
   "name": "python3"
  },
  "language_info": {
   "codemirror_mode": {
    "name": "ipython",
    "version": 3
   },
   "file_extension": ".py",
   "mimetype": "text/x-python",
   "name": "python",
   "nbconvert_exporter": "python",
   "pygments_lexer": "ipython3",
   "version": "3.9.13"
  }
 },
 "nbformat": 4,
 "nbformat_minor": 5
}
